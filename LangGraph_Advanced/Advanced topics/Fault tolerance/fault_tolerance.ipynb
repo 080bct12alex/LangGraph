{
 "cells": [
  {
   "cell_type": "markdown",
   "id": "d8435127",
   "metadata": {},
   "source": [
    "### Fault Tolerance"
   ]
  },
  {
   "cell_type": "code",
   "execution_count": null,
   "id": "b7aacf7e",
   "metadata": {},
   "outputs": [],
   "source": [
    "from langgraph.graph import StateGraph, START, END\n",
    "from langgraph.checkpoint.memory import InMemorySaver\n",
    "from typing import TypedDict\n",
    "import time"
   ]
  },
  {
   "cell_type": "code",
   "execution_count": null,
   "id": "095de12d",
   "metadata": {},
   "outputs": [],
   "source": [
    "# 1. Define the state\n",
    "class CrashState(TypedDict):\n",
    "    input: str\n",
    "    step1: str\n",
    "    step2: str\n",
    "    step3: str"
   ]
  },
  {
   "cell_type": "code",
   "execution_count": 4,
   "id": "13365a36",
   "metadata": {},
   "outputs": [],
   "source": [
    "# 2. Define steps\n",
    "def step_1(state: CrashState) -> CrashState:\n",
    "    print(\"✅ Step 1 executed\")\n",
    "    return {\"step1\": \"done\", \"input\": state[\"input\"]}\n",
    "\n",
    "def step_2(state: CrashState) -> CrashState:\n",
    "    print(\"⏳ Step 2 hanging... now manually interrupt from the notebook toolbar (STOP button)\")\n",
    "    time.sleep(1000)  # Simulate long-running hang\n",
    "    return {\"step2\": \"done\"}\n",
    "\n",
    "def step_3(state: CrashState) -> CrashState:\n",
    "    print(\"✅ Step 3 executed\")\n",
    "    return {\"done\": True}"
   ]
  },
  {
   "cell_type": "code",
   "execution_count": null,
   "id": "2838a3a1",
   "metadata": {},
   "outputs": [],
   "source": [
    "# 3. Build the graph\n",
    "builder = StateGraph(CrashState)\n",
    "builder.add_node(\"step_1\", step_1)\n",
    "builder.add_node(\"step_2\", step_2)\n",
    "builder.add_node(\"step_3\", step_3)\n",
    "\n",
    "builder.set_entry_point(\"step_1\")  # or builder.add_edge(START, \"step_1\")\n",
    "builder.add_edge(\"step_1\", \"step_2\")\n",
    "builder.add_edge(\"step_2\", \"step_3\")\n",
    "builder.add_edge(\"step_3\", END)\n",
    "\n",
    "checkpointer = InMemorySaver()\n",
    "graph = builder.compile(checkpointer=checkpointer)"
   ]
  },
  {
   "cell_type": "code",
   "execution_count": null,
   "id": "17c012e7",
   "metadata": {},
   "outputs": [
    {
     "name": "stdout",
     "output_type": "stream",
     "text": [
      "▶️ Running graph: Please manually interrupt during Step 2...\n",
      "✅ Step 1 executed\n",
      "⏳ Step 2 hanging... now manually interrupt from the notebook toolbar (STOP button)\n"
     ]
    }
   ],
   "source": [
    "# Simulating the execution\n",
    "try:\n",
    "    print(\"▶️ Running graph: Please manually interrupt during Step 2...\")\n",
    "    graph.invoke({\"input\": \"start\"}, config={\"configurable\": {\"thread_id\": 'thread-1'}})\n",
    "except KeyboardInterrupt:\n",
    "    print(\"❌ Kernel manually interrupted (crash simulated).\")"
   ]
  },
  {
   "cell_type": "code",
   "execution_count": null,
   "id": "6d493cee",
   "metadata": {},
   "outputs": [],
   "source": [
    "# Check the state after the manual interruption\n",
    "state_after_interrupt = graph.get_state({\"configurable\": {\"thread_id\": 'thread-1'}})\n",
    "print(\"State after interruption:\", state_after_interrupt)\n",
    "\n"
   ]
  },
  {
   "cell_type": "code",
   "execution_count": null,
   "id": "bc9f4bc9",
   "metadata": {},
   "outputs": [],
   "source": [
    "# List the history of states\n",
    "state_history = list(graph.get_state_history({\"configurable\": {\"thread_id\": 'thread-1'}}))\n",
    "print(\"State history:\", state_history)\n"
   ]
  },
  {
   "cell_type": "code",
   "execution_count": null,
   "id": "95df3f98",
   "metadata": {},
   "outputs": [],
   "source": [
    "# 6. Re-run to show fault-tolerant resume\n",
    "print(\"\\n🔁 Re-running the graph to demonstrate fault tolerance...\")\n",
    "final_state = graph.invoke(None, config={\"configurable\": {\"thread_id\": 'thread-1'}})\n",
    "print(\"\\n✅ Final State:\", final_state)"
   ]
  },
  {
   "cell_type": "code",
   "execution_count": null,
   "id": "4f61ccbd",
   "metadata": {},
   "outputs": [],
   "source": [
    "# Get final state after re-running\n",
    "final_state_after_resume = graph.get_state({\"configurable\": {\"thread_id\": 'thread-1'}})\n",
    "print(\"Final state after resume:\", final_state_after_resume)"
   ]
  },
  {
   "cell_type": "code",
   "execution_count": null,
   "id": "36546f97",
   "metadata": {},
   "outputs": [],
   "source": [
    "# Print the history of states after resume\n",
    "final_state_history = list(graph.get_state_history({\"configurable\": {\"thread_id\": 'thread-1'}}))\n",
    "print(\"Final state history after resume:\", final_state_history)\n"
   ]
  }
 ],
 "metadata": {
  "kernelspec": {
   "display_name": "myenv",
   "language": "python",
   "name": "python3"
  },
  "language_info": {
   "codemirror_mode": {
    "name": "ipython",
    "version": 3
   },
   "file_extension": ".py",
   "mimetype": "text/x-python",
   "name": "python",
   "nbconvert_exporter": "python",
   "pygments_lexer": "ipython3",
   "version": "3.11.0"
  }
 },
 "nbformat": 4,
 "nbformat_minor": 5
}
